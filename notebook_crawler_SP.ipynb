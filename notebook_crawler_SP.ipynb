{
 "cells": [
  {
   "cell_type": "markdown",
   "id": "47ebf8a2-c873-474f-a680-d59e9ec45970",
   "metadata": {},
   "source": [
    "# Crawler de Coleta Alvarás SP\n",
    "- Carlos Magno Barbosa\n",
    "- Data: 2024\n",
    "- Estado: Em construção/Funcional. \n",
    "\n",
    "**Mini-Curso**: Crawler para coletar alvarás da cidade de São Paulo. Esse curso explora o conceito de dados abertos.\n",
    "\n",
    "**Motivação**: Cidades são organismos complexos \"vivos\" que se adaptam ao longo dos anos para atender às necessidades dos seus moradores. Um dos modos de se detectar essa mudança natural das cidades é por meio dos alvarás, permissões da prefeitura para a construção e adaptação de imóveis na cidade. Desse modo, esse mini-curso apresenta uma breve abordagem para a construção de um crawler para coletar dados abertos de alvarás disponibilizados publicamente pela prefeitura de São Paulo.\n",
    "\n",
    "\n",
    "Links de Interesse: https://www.prefeitura.sp.gov.br/cidade/secretarias/licenciamento/servicos/index.php?p=3334"
   ]
  },
  {
   "cell_type": "markdown",
   "id": "13928439",
   "metadata": {},
   "source": [
    "## Ambiente de Execução\n",
    "\n",
    "\n",
    "Este mini-curso foi construído com foco em execução no ambiente Linux, no entanto, a sua execução também pode ser realizada em um ambiente Windows com algumas adaptações.\n",
    "\n",
    "\n",
    "## Notebook\n",
    "Como estamos executando esse código em um notebook, é necessário ter o Jupyter Notebook instalado, além de algumas outras dependências.\n",
    "\n"
   ]
  },
  {
   "cell_type": "markdown",
   "id": "35a6eabb",
   "metadata": {},
   "source": [
    "## Pré-work - Instalação de dependências\n",
    "\n",
    "Nessa etapa iremos instalar as dependências necessarias para execução do código.\n",
    "\n",
    "*  Dependências:\n",
    "   *  - Python 3.9 > superior\n",
    "   *  - JupyterLab ou JupyterNotebook\n",
    "   *  - requests\n",
    "   *  - beautifulsoup4\n",
    "\n",
    "\n",
    "### Instalação do Python\n",
    "\n",
    "O primeiro requisito e ter o python instalado, você pode baixar ele no link a seguir:\n",
    "\n",
    "> https://www.python.org/downloads/\n",
    "\n",
    "### Criação de um ambiente virtual:\n",
    "\n",
    "Exemplo no Ubuntu:\n",
    "> python3 -m venv env_crawler_sp\n",
    "\n",
    "Ativando o ambiente:\n",
    "> source env_crawler_sp/bin/activate"
   ]
  },
  {
   "cell_type": "markdown",
   "id": "733bceb0",
   "metadata": {},
   "source": [
    "## Bibliotecas\n",
    "\n",
    "\n",
    "Bibliotecas podem ser interpretadas como soluções criadas por outros desenvolvedores que resolvem um `problema` em específico. Por meio dessa solução, utilizamos abordagens já ``testadas e maduras`` para resolução de um problema, garantindo o reúso e evitando a reinvenção da roda. Mas um ponto de atenção é verificar se a biblioteca utilizada é atualizada e possui código aberto que permite a sua checagem. Para o contexto desse trabalho, precisamos de duas bibliotecas que não são nativas do Python.\n",
    "Elas podem ser instaladas pelo gerenciador de pacotes pip.\n",
    "\n",
    "\n",
    "- `Requests`: é uma biblioteca utilizada para obter os dados da página da prefeitura de SP.\n",
    "\n",
    "> pip install requests\n",
    "\n",
    "\n",
    "- `BeautifulSoup` é utilizada para manipulação e extração dos dados retornados pela biblioteca requests.\n",
    "\n",
    "\n",
    "> pip install beautifulsoup4"
   ]
  },
  {
   "cell_type": "code",
   "execution_count": 1,
   "id": "16e29a69",
   "metadata": {},
   "outputs": [],
   "source": [
    "# Importando bibliotecas\n",
    "import requests\n",
    "from bs4 import BeautifulSoup"
   ]
  },
  {
   "cell_type": "code",
   "execution_count": 2,
   "id": "ea158b6d",
   "metadata": {},
   "outputs": [],
   "source": [
    "from pathlib import Path"
   ]
  },
  {
   "cell_type": "code",
   "execution_count": 28,
   "id": "2bee8fb6-6991-4c07-9986-8585623dcf63",
   "metadata": {},
   "outputs": [],
   "source": [
    "def create_dir(path_to_file):\n",
    "    \"\"\"\n",
    "    Create a directory if does not exists.\n",
    "    \"\"\"\n",
    "    path = Path(path_to_file)\n",
    "    path.mkdir(parents=True, exist_ok=True)\n",
    "\n",
    "\n",
    "def _save_file(name, content):\n",
    "    \"\"\"\n",
    "    Save content file to disk.\n",
    "    \"\"\"\n",
    "    with open(name, 'wb') as arq_file:\n",
    "        arq_file.write(content)\n",
    "\n",
    "def save_multiple_files(dict_content):\n",
    "    \"\"\"Save files to disk.\"\"\"\n",
    "\n",
    "    for file_name in dict_content:\n",
    "        _save_file(file_name, dict_content[file_name])\n",
    "\n",
    "def get_table_data(tables, path_to_save):\n",
    "    \"\"\"\n",
    "    Extract table data and return a dict with data.\n",
    "    \"\"\"\n",
    "    dict_tables = {}\n",
    "    for table in tables:\n",
    "        # recupera cabeçalho da table\n",
    "        for th in table.find_all(\"th\"):\n",
    "            link = th.a.get('href')\n",
    "            if 'https' not in link:\n",
    "                continue\n",
    "            print('Link:', link)\n",
    "            try:\n",
    "                content = requests.get(th.a.get('href'))\n",
    "                # prepara o nome do arquivo\n",
    "                name_to_save = f\"{path_to_save}/{th.text}.xlsx\"\n",
    "                dict_tables[name_to_save] = content.content\n",
    "            except Exception as error:\n",
    "                print(f'Error: {error}')\n",
    "    return dict_tables"
   ]
  },
  {
   "cell_type": "code",
   "execution_count": 7,
   "id": "d20d7875-d06d-4dfb-bb13-df35c16dc0e2",
   "metadata": {
    "tags": []
   },
   "outputs": [],
   "source": [
    "URL_ALVARAS = \"https://www.prefeitura.sp.gov.br/cidade/secretarias/licenciamento/servicos/index.php?p=3334\""
   ]
  },
  {
   "cell_type": "code",
   "execution_count": 5,
   "id": "472e3633",
   "metadata": {},
   "outputs": [],
   "source": [
    "# Cria pasta para salvar os dados\n",
    "FOLDER = 'alvaras'\n",
    "create_dir(FOLDER)"
   ]
  },
  {
   "cell_type": "code",
   "execution_count": 8,
   "id": "eff50f6b",
   "metadata": {},
   "outputs": [
    {
     "data": {
      "text/plain": [
       "'https://www.prefeitura.sp.gov.br/cidade/secretarias/licenciamento/servicos/index.php?p=3334'"
      ]
     },
     "execution_count": 8,
     "metadata": {},
     "output_type": "execute_result"
    }
   ],
   "source": [
    "URL_ALVARAS"
   ]
  },
  {
   "cell_type": "code",
   "execution_count": 9,
   "id": "5674d5cc-e8f9-4c5d-9690-86ebd2e843ab",
   "metadata": {
    "tags": []
   },
   "outputs": [],
   "source": [
    "# Realiza a requisição para a pagina de alvaras de SP.\n",
    "response = requests.get(URL_ALVARAS)"
   ]
  },
  {
   "cell_type": "code",
   "execution_count": 10,
   "id": "02c35985-7ee6-4237-a585-3da211d4dc2e",
   "metadata": {
    "tags": []
   },
   "outputs": [],
   "source": [
    "# Gera a árvore DOM para permitir interagir nos dados de modo fácil.\n",
    "soup = BeautifulSoup(response.text, 'html.parser')"
   ]
  },
  {
   "cell_type": "code",
   "execution_count": 26,
   "id": "da240f6f-639c-475d-b2b9-ef504f2b42a4",
   "metadata": {
    "tags": []
   },
   "outputs": [
    {
     "name": "stdout",
     "output_type": "stream",
     "text": [
      "Link: https://www.prefeitura.sp.gov.br/cidade/secretarias/upload/licenciamento/Ano_2023_SISSEL.xls\n",
      "Link: https://www.prefeitura.sp.gov.br/cidade/secretarias/upload/licenciamento/ANUAL - 2022.xlsx\n",
      "Link: https://www.prefeitura.sp.gov.br/cidade/secretarias/upload/licenciamentos/anual_2021_ate_dezembro.xls\n",
      "Link: https://www.prefeitura.sp.gov.br/cidade/secretarias/upload/licenciamentos/Anual2020_ate_dezembro.xls\n",
      "Link: https://www.prefeitura.sp.gov.br/cidade/secretarias/upload/licenciamentos/Anual2019.xls\n",
      "Link: https://www.prefeitura.sp.gov.br/cidade/secretarias/upload/licenciamentos/Anual_2018.xls\n",
      "Link: https://www.prefeitura.sp.gov.br/cidade/secretarias/upload/licenciamentos/Anual_2017_dezembro.xls\n",
      "Link: https://www.prefeitura.sp.gov.br/cidade/secretarias/upload/anual_2016.xls\n",
      "Link: https://www.prefeitura.sp.gov.br/cidade/secretarias/upload/licenciamento/2015 - anual.xls\n",
      "Link: https://www.prefeitura.sp.gov.br/cidade/secretarias/upload/licenciamento/2014 - anual.xls\n",
      "Link: https://www.prefeitura.sp.gov.br/cidade/secretarias/upload/licenciamento/2013 - anual.xls\n",
      "Link: https://www.prefeitura.sp.gov.br/cidade/secretarias/upload/licenciamentos/anual_2012.xls\n",
      "Link: https://www.prefeitura.sp.gov.br/cidade/secretarias/upload/licenciamentos/Anual2011.xls\n",
      "Link: https://www.prefeitura.sp.gov.br/cidade/secretarias/upload/licenciamentos/anual2010.xls\n",
      "Link: https://www.prefeitura.sp.gov.br/cidade/secretarias/upload/licenciamentos/anual2009.xls\n",
      "Link: https://www.prefeitura.sp.gov.br/cidade/secretarias/upload/licenciamentos/anual2008.xls\n",
      "Link: https://www.prefeitura.sp.gov.br/cidade/secretarias/upload/licenciamentos/anual2007.xls\n",
      "Link: https://www.prefeitura.sp.gov.br/cidade/secretarias/upload/licenciamentos/anual2006.xls\n",
      "Link: https://www.prefeitura.sp.gov.br/cidade/secretarias/upload/licenciamentos/anual2005.xls\n",
      "Link: https://www.prefeitura.sp.gov.br/cidade/secretarias/upload/licenciamentos/anual2004.xls\n",
      "Link: https://www.prefeitura.sp.gov.br/cidade/secretarias/upload/licenciamentos/Anual_2003.xls\n",
      "Link: https://www.prefeitura.sp.gov.br/cidade/secretarias/upload/licenciamentos/anual_2002.xls\n",
      "Link: https://www.prefeitura.sp.gov.br/cidade/secretarias/upload/licenciamentos/anual_2001.xls\n",
      "Link: https://www.prefeitura.sp.gov.br/cidade/secretarias/upload/licenciamentos/anual_2000.xls\n"
     ]
    }
   ],
   "source": [
    "tables = soup.find_all(\"table\")\n",
    "dict_files = get_table_data(tables=tables, path_to_save=FOLDER)"
   ]
  },
  {
   "cell_type": "code",
   "execution_count": 27,
   "id": "228cba4c",
   "metadata": {},
   "outputs": [],
   "source": [
    "save_multiple_files(dict_files)"
   ]
  },
  {
   "cell_type": "code",
   "execution_count": null,
   "id": "4d9ad33d-8f4e-4425-bc51-9cf075a52850",
   "metadata": {},
   "outputs": [],
   "source": []
  }
 ],
 "metadata": {
  "kernelspec": {
   "display_name": "Python 3 (ipykernel)",
   "language": "python",
   "name": "python3"
  },
  "language_info": {
   "codemirror_mode": {
    "name": "ipython",
    "version": 3
   },
   "file_extension": ".py",
   "mimetype": "text/x-python",
   "name": "python",
   "nbconvert_exporter": "python",
   "pygments_lexer": "ipython3",
   "version": "3.12.3"
  }
 },
 "nbformat": 4,
 "nbformat_minor": 5
}
